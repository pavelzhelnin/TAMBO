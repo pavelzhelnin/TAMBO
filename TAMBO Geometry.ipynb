{
 "cells": [
  {
   "cell_type": "code",
   "execution_count": 1,
   "id": "428d1c15",
   "metadata": {},
   "outputs": [],
   "source": [
    "#CHANGE TO .py file to be able to import \n",
    "\n",
    "%matplotlib inline\n",
    "import matplotlib.pyplot as plt\n",
    "import numpy as np\n",
    "import pandas as pd\n",
    "from scipy.interpolate import griddata\n",
    "from matplotlib.pyplot import figure\n",
    "from scipy.interpolate import UnivariateSpline\n",
    "from scipy.interpolate import SmoothBivariateSpline\n",
    "import csv"
   ]
  },
  {
   "cell_type": "code",
   "execution_count": null,
   "id": "49b0b13a",
   "metadata": {},
   "outputs": [],
   "source": [
    "#df = (pd.read_csv('/Users/pavelzhelnin/Documents/physics/TAMBO/ColcaValleyData.txt', delimiter = \"\\t\")) "
   ]
  },
  {
   "cell_type": "code",
   "execution_count": 21,
   "id": "307e0ce6",
   "metadata": {},
   "outputs": [],
   "source": [
    "class Geometry: \n",
    "    \n",
    "    def __init__(self,\n",
    "                text, #text file of geometry data in lat/long/elev format \n",
    "                ): \n",
    "        \n",
    "        df = (pd.read_csv(text, delimiter = \"\\t\")); \n",
    "    \n",
    "        self.Lat = df.iloc[0:, 1]; \n",
    "        self.Long = df.iloc[0:, 2]; \n",
    "        self.Elev = df.iloc[0:, 3];\n",
    "        self.latmax = np.max(self.Lat);\n",
    "        self.longmax = np.max(self.Long);\n",
    "        self.elevmax = np.max(self.Elev); \n",
    "        self.latmin = np.min(self.Lat) * np.pi/180;\n",
    "        self.longmin = np.min(self.Long) * np.pi/180; \n",
    "        self.elevmin = np.min(self.Elev);\n",
    "        \n",
    "    def coords_to_meters(self,longitude,latitude): \n",
    "        \n",
    "        longitude = longitude * (np.pi/180)\n",
    "        latitude = latitude * (np.pi/180) \n",
    "\n",
    "        latmin = self.latmin;\n",
    "        longmin = self.longmin;\n",
    "    \n",
    "        latMid = (latitude + latmin)/2.0\n",
    "\n",
    "        m_per_deg_lat = (111132.954 - (559.822 * np.cos( 2.0 * latMid )) + (1.175 * np.cos( 4.0 * latMid)) \n",
    "        + (0.0023 * np.cos( 6.0 * latMid)));\n",
    "        m_per_deg_lon = (111412.82 * np.cos(latMid)) - (93.5*np.cos(latMid*3)) + (0.118*np.cos(5*latMid));\n",
    "    \n",
    "        delta_lat = latitude - latmin \n",
    "        delta_long = longitude - longmin \n",
    "    \n",
    "        x = delta_long * m_per_deg_lon * 180/np.pi\n",
    "        y = delta_lat * m_per_deg_lat * 180/np.pi\n",
    "        \n",
    "        array = np.around(np.array([x,y],dtype =np.float32),3)\n",
    "        \n",
    "        return array\n",
    "    \n",
    "    def dim_array(self): \n",
    "        \n",
    "        self.max_meters = self.coords_to_meters(self.longmax,self.latmax);\n",
    "        \n",
    "        array = ([0.0,self.max_meters[0],0.0,self.max_meters[1],self.elevmin,self.elevmax]);\n",
    "        self.array = np.around(np.array(array,dtype =np.float32),3); \n",
    "        \n",
    "        return array \n",
    "        \n",
    "    def spline(self): \n",
    "        \n",
    "        x = [coords_to_meters(g,i) for i,g in zip(self.Lat,self.Long)]\n",
    "        Meters_Lats = [x[i][1] for i,c in enumerate(x)]\n",
    "        Meters_Longs = [x[i][0] for i,c in enumerate(x)]\n",
    "        spline = SmoothBivariateSpline(Meters_Longs,Meters_Lats,Elev,kx=3,ky=3)\n",
    "        \n",
    "        return spline"
   ]
  },
  {
   "cell_type": "code",
   "execution_count": 22,
   "id": "b5fc74a8",
   "metadata": {},
   "outputs": [
    {
     "name": "stdout",
     "output_type": "stream",
     "text": [
      "0      -15.739750\n",
      "1      -15.736416\n",
      "2      -15.736416\n",
      "3      -15.736416\n",
      "4      -15.736416\n",
      "          ...    \n",
      "9797   -15.409632\n",
      "9798   -15.409632\n",
      "9799   -15.409632\n",
      "9800   -15.409632\n",
      "9801   -15.409632\n",
      "Name: latitude, Length: 9802, dtype: float64\n",
      "[0.0, 42863.87, 0.0, 36529.02, 1339.5, 5547.6]\n"
     ]
    }
   ],
   "source": [
    "alpha = Geometry('/Users/pavelzhelnin/Documents/physics/TAMBO/ColcaValleyData.txt')\n",
    "print(alpha.Lat)\n",
    "print(alpha.dim_array())"
   ]
  },
  {
   "cell_type": "code",
   "execution_count": 15,
   "id": "6be31ca2",
   "metadata": {},
   "outputs": [
    {
     "data": {
      "text/plain": [
       "85.204595"
      ]
     },
     "execution_count": 15,
     "metadata": {},
     "output_type": "execute_result"
    }
   ],
   "source": [
    "136.765*0.623"
   ]
  },
  {
   "cell_type": "code",
   "execution_count": null,
   "id": "92dbf8f2",
   "metadata": {},
   "outputs": [],
   "source": []
  }
 ],
 "metadata": {
  "kernelspec": {
   "display_name": "Python 3",
   "language": "python",
   "name": "python3"
  },
  "language_info": {
   "codemirror_mode": {
    "name": "ipython",
    "version": 3
   },
   "file_extension": ".py",
   "mimetype": "text/x-python",
   "name": "python",
   "nbconvert_exporter": "python",
   "pygments_lexer": "ipython3",
   "version": "3.8.8"
  }
 },
 "nbformat": 4,
 "nbformat_minor": 5
}
