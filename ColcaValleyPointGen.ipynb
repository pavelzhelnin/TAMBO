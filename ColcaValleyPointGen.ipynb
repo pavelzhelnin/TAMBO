{
 "cells": [
  {
   "cell_type": "code",
   "execution_count": null,
   "id": "c22cc610",
   "metadata": {},
   "outputs": [],
   "source": [
    "%matplotlib inline\n",
    "import matplotlib.pyplot as plt\n",
    "import numpy as np\n",
    "import pandas as pd\n",
    "from scipy.interpolate import griddata\n",
    "from matplotlib.pyplot import figure\n",
    "from scipy.interpolate import UnivariateSpline\n",
    "from scipy.interpolate import SmoothBivariateSpline\n",
    "import csv"
   ]
  },
  {
   "cell_type": "code",
   "execution_count": null,
   "id": "98ba3ebc",
   "metadata": {},
   "outputs": [],
   "source": [
    "\"\"\"#Produces input array of coordinates,\n",
    "lats = np.linspace(0,100000,1)\n",
    "fields = [\"Latitude\",\"Longitude\"]\n",
    "pts = 1e4\n",
    "longs = np.linspace(np.min(Long),np.max(Long),np.sqrt(pts))\n",
    "lats = np.linspace(np.min(Lat),np.max(Lat),np.sqrt(pts))\n",
    "\n",
    "rows = [[lats[0],longs[0]]]\n",
    "for i in np.arange(1,100,1): \n",
    "    for j in np.arange(1,100,1):\n",
    "        rows.append([lats[i],longs[j]])\n",
    "\n",
    "filename = \"Colca_Valley_Longs_and_Lats.csv\"\n",
    "\n",
    "fields = [\"Latitudes\",\"Longitudes\"]\n",
    "\n",
    "print(rows)\n",
    "\n",
    "with open(filename, 'w') as csvfile:  \n",
    "    # creating a csv writer object  \n",
    "    csvwriter = csv.writer(csvfile)  \n",
    "          \n",
    "    # writing the fields  \n",
    "    csvwriter.writerow(fields)  \n",
    "          \n",
    "    # writing the data rows  \n",
    "    csvwriter.writerows(rows)\"\"\""
   ]
  }
 ],
 "metadata": {
  "kernelspec": {
   "display_name": "Python 3",
   "language": "python",
   "name": "python3"
  },
  "language_info": {
   "codemirror_mode": {
    "name": "ipython",
    "version": 3
   },
   "file_extension": ".py",
   "mimetype": "text/x-python",
   "name": "python",
   "nbconvert_exporter": "python",
   "pygments_lexer": "ipython3",
   "version": "3.8.8"
  }
 },
 "nbformat": 4,
 "nbformat_minor": 5
}
